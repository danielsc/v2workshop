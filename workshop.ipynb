{
 "cells": [
  {
   "cell_type": "code",
   "execution_count": 20,
   "metadata": {},
   "outputs": [],
   "source": [
    "def get_ml_client_from_env():\n",
    "    import os\n",
    "    from azure.ai.ml import MLClient\n",
    "    from azure.identity import DefaultAzureCredential\n",
    "    MLFLOW_TRACKING_URI=os.environ['MLFLOW_TRACKING_URI']\n",
    "    if MLFLOW_TRACKING_URI is None:\n",
    "        raise Exception(\"MLFLOW_TRACKING_URI is not set\")\n",
    "    print(f\"found MLFLOW_TRACKING_URI: {MLFLOW_TRACKING_URI}\")\n",
    "    segments = MLFLOW_TRACKING_URI.split('/')\n",
    "    subscription_id = segments[6]\n",
    "    resource_group = segments[8]\n",
    "    workspace = segments[12]\n",
    "    print(f\"creating MLClient with subscription_id: {subscription_id}, resource_group: {resource_group}, workspace: {workspace}\")\n",
    "    mlclient = MLClient(DefaultAzureCredential(), subscription_id, resource_group, workspace)\n",
    "    return mlclient"
   ]
  },
  {
   "cell_type": "code",
   "execution_count": 21,
   "metadata": {},
   "outputs": [
    {
     "ename": "KeyError",
     "evalue": "'MLFLOW_TRACKING_URIx'",
     "output_type": "error",
     "traceback": [
      "\u001b[0;31m---------------------------------------------------------------------------\u001b[0m",
      "\u001b[0;31mKeyError\u001b[0m                                  Traceback (most recent call last)",
      "\u001b[1;32m/home/azureuser/localfiles/demo/demo.ipynb Cell 2'\u001b[0m in \u001b[0;36m<cell line: 1>\u001b[0;34m()\u001b[0m\n\u001b[0;32m----> <a href='vscode-notebook-cell://amlext%2B2f737562736372697074696f6e732f31356165396362362d393563312d343833642d613065332d6231613161336230363332342f7265736f7572636547726f7570732f7261792f70726f7669646572732f4d6963726f736f66742e4d616368696e654c6561726e696e6753657276696365732f776f726b7370616365732f7261792f636f6d70757465732f64616e69656c736364656d6f/home/azureuser/localfiles/demo/demo.ipynb#ch0000001vscode-remote?line=0'>1</a>\u001b[0m mlclient \u001b[39m=\u001b[39m get_ml_client_from_env()\n",
      "\u001b[1;32m/home/azureuser/localfiles/demo/demo.ipynb Cell 1'\u001b[0m in \u001b[0;36mget_ml_client_from_env\u001b[0;34m()\u001b[0m\n\u001b[1;32m      <a href='vscode-notebook-cell://amlext%2B2f737562736372697074696f6e732f31356165396362362d393563312d343833642d613065332d6231613161336230363332342f7265736f7572636547726f7570732f7261792f70726f7669646572732f4d6963726f736f66742e4d616368696e654c6561726e696e6753657276696365732f776f726b7370616365732f7261792f636f6d70757465732f64616e69656c736364656d6f/home/azureuser/localfiles/demo/demo.ipynb#ch0000000vscode-remote?line=2'>3</a>\u001b[0m \u001b[39mfrom\u001b[39;00m \u001b[39mazure\u001b[39;00m\u001b[39m.\u001b[39;00m\u001b[39mai\u001b[39;00m\u001b[39m.\u001b[39;00m\u001b[39mml\u001b[39;00m \u001b[39mimport\u001b[39;00m MLClient\n\u001b[1;32m      <a href='vscode-notebook-cell://amlext%2B2f737562736372697074696f6e732f31356165396362362d393563312d343833642d613065332d6231613161336230363332342f7265736f7572636547726f7570732f7261792f70726f7669646572732f4d6963726f736f66742e4d616368696e654c6561726e696e6753657276696365732f776f726b7370616365732f7261792f636f6d70757465732f64616e69656c736364656d6f/home/azureuser/localfiles/demo/demo.ipynb#ch0000000vscode-remote?line=3'>4</a>\u001b[0m \u001b[39mfrom\u001b[39;00m \u001b[39mazure\u001b[39;00m\u001b[39m.\u001b[39;00m\u001b[39midentity\u001b[39;00m \u001b[39mimport\u001b[39;00m DefaultAzureCredential\n\u001b[0;32m----> <a href='vscode-notebook-cell://amlext%2B2f737562736372697074696f6e732f31356165396362362d393563312d343833642d613065332d6231613161336230363332342f7265736f7572636547726f7570732f7261792f70726f7669646572732f4d6963726f736f66742e4d616368696e654c6561726e696e6753657276696365732f776f726b7370616365732f7261792f636f6d70757465732f64616e69656c736364656d6f/home/azureuser/localfiles/demo/demo.ipynb#ch0000000vscode-remote?line=4'>5</a>\u001b[0m MLFLOW_TRACKING_URI\u001b[39m=\u001b[39mos\u001b[39m.\u001b[39;49menviron[\u001b[39m'\u001b[39;49m\u001b[39mMLFLOW_TRACKING_URIx\u001b[39;49m\u001b[39m'\u001b[39;49m]\n\u001b[1;32m      <a href='vscode-notebook-cell://amlext%2B2f737562736372697074696f6e732f31356165396362362d393563312d343833642d613065332d6231613161336230363332342f7265736f7572636547726f7570732f7261792f70726f7669646572732f4d6963726f736f66742e4d616368696e654c6561726e696e6753657276696365732f776f726b7370616365732f7261792f636f6d70757465732f64616e69656c736364656d6f/home/azureuser/localfiles/demo/demo.ipynb#ch0000000vscode-remote?line=5'>6</a>\u001b[0m \u001b[39mif\u001b[39;00m MLFLOW_TRACKING_URI \u001b[39mis\u001b[39;00m \u001b[39mNone\u001b[39;00m:\n\u001b[1;32m      <a href='vscode-notebook-cell://amlext%2B2f737562736372697074696f6e732f31356165396362362d393563312d343833642d613065332d6231613161336230363332342f7265736f7572636547726f7570732f7261792f70726f7669646572732f4d6963726f736f66742e4d616368696e654c6561726e696e6753657276696365732f776f726b7370616365732f7261792f636f6d70757465732f64616e69656c736364656d6f/home/azureuser/localfiles/demo/demo.ipynb#ch0000000vscode-remote?line=6'>7</a>\u001b[0m     \u001b[39mraise\u001b[39;00m \u001b[39mException\u001b[39;00m(\u001b[39m\"\u001b[39m\u001b[39mMLFLOW_TRACKING_URI is not set\u001b[39m\u001b[39m\"\u001b[39m)\n",
      "File \u001b[0;32m/anaconda/envs/azureml_py310_sdkv2/lib/python3.10/os.py:679\u001b[0m, in \u001b[0;36m_Environ.__getitem__\u001b[0;34m(self, key)\u001b[0m\n\u001b[1;32m    676\u001b[0m     value \u001b[39m=\u001b[39m \u001b[39mself\u001b[39m\u001b[39m.\u001b[39m_data[\u001b[39mself\u001b[39m\u001b[39m.\u001b[39mencodekey(key)]\n\u001b[1;32m    677\u001b[0m \u001b[39mexcept\u001b[39;00m \u001b[39mKeyError\u001b[39;00m:\n\u001b[1;32m    678\u001b[0m     \u001b[39m# raise KeyError with the original key value\u001b[39;00m\n\u001b[0;32m--> 679\u001b[0m     \u001b[39mraise\u001b[39;00m \u001b[39mKeyError\u001b[39;00m(key) \u001b[39mfrom\u001b[39;00m \u001b[39mNone\u001b[39m\n\u001b[1;32m    680\u001b[0m \u001b[39mreturn\u001b[39;00m \u001b[39mself\u001b[39m\u001b[39m.\u001b[39mdecodevalue(value)\n",
      "\u001b[0;31mKeyError\u001b[0m: 'MLFLOW_TRACKING_URIx'"
     ]
    }
   ],
   "source": [
    "mlclient = get_ml_client_from_env()"
   ]
  },
  {
   "cell_type": "code",
   "execution_count": 18,
   "metadata": {},
   "outputs": [],
   "source": [
    "model = mlclient.models.get(name='my-model', label='latest')"
   ]
  },
  {
   "cell_type": "code",
   "execution_count": 19,
   "metadata": {},
   "outputs": [
    {
     "data": {
      "text/plain": [
       "'3'"
      ]
     },
     "execution_count": 19,
     "metadata": {},
     "output_type": "execute_result"
    }
   ],
   "source": [
    "model.version"
   ]
  },
  {
   "cell_type": "code",
   "execution_count": null,
   "metadata": {},
   "outputs": [],
   "source": []
  }
 ],
 "metadata": {
  "kernelspec": {
   "display_name": "Python 3.10.4 ('azureml_py310_sdkv2')",
   "language": "python",
   "name": "python3"
  },
  "language_info": {
   "codemirror_mode": {
    "name": "ipython",
    "version": 3
   },
   "file_extension": ".py",
   "mimetype": "text/x-python",
   "name": "python",
   "nbconvert_exporter": "python",
   "pygments_lexer": "ipython3",
   "version": "3.10.4"
  },
  "orig_nbformat": 4,
  "vscode": {
   "interpreter": {
    "hash": "2139c70ac98f3202d028164a545621647e07f47fd6f5d8ac55cf952bf7c15ed1"
   }
  }
 },
 "nbformat": 4,
 "nbformat_minor": 2
}
